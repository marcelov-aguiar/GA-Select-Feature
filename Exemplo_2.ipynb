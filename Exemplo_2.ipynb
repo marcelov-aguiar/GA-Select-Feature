{
 "cells": [
  {
   "cell_type": "code",
   "execution_count": 1,
   "metadata": {},
   "outputs": [],
   "source": [
    "import sys\n",
    "from pathlib import Path\n",
    "import pandas as pd\n",
    "from sklearn.model_selection import train_test_split\n",
    "from sklearn.preprocessing import StandardScaler\n",
    "from sklearn.pipeline import Pipeline\n",
    "from sklearn.compose import TransformedTargetRegressor\n",
    "from lightgbm import LGBMRegressor\n",
    "from ga_selects_k_features import GASelectsKFeatures"
   ]
  },
  {
   "cell_type": "code",
   "execution_count": 2,
   "metadata": {},
   "outputs": [],
   "source": [
    "path = Path(sys.path[0]).joinpath(\"1_data\").joinpath(\"FD001.csv\")\n",
    "df_data = pd.read_csv(str(path))"
   ]
  },
  {
   "cell_type": "code",
   "execution_count": 3,
   "metadata": {},
   "outputs": [],
   "source": [
    "input_features = ['time', 'setting_1', 'setting_2', 'setting_3',\n",
    "   'sensor_1', 'sensor_2', 'sensor_3', 'sensor_4', 'sensor_5', 'sensor_6',\n",
    "   'sensor_7', 'sensor_8', 'sensor_9', 'sensor_10', 'sensor_11',\n",
    "   'sensor_12', 'sensor_13', 'sensor_14', 'sensor_15', 'sensor_16',\n",
    "   'sensor_17', 'sensor_18', 'sensor_19', 'sensor_20', 'sensor_21']\n",
    "target = 'RUL'\n",
    "\n",
    "X = df_data[input_features]\n",
    "y = df_data[target]\n",
    "\n",
    "X_train, X_test, y_train, y_test = train_test_split(X, y, test_size=0.3, random_state=42)\n",
    "X_train, X_val, y_train, y_val = train_test_split(X_train, y_train, test_size=0.2, random_state=42)\n",
    "\n",
    "model = LGBMRegressor(max_depth=4, n_estimators=12, boosting_type=\"gbdt\", verbose=0)\n",
    "pipeline = Pipeline([('std', StandardScaler()), ('regressor', model)])\n",
    "model = TransformedTargetRegressor(regressor=pipeline,\n",
    "                                   transformer=StandardScaler())\n"
   ]
  },
  {
   "cell_type": "code",
   "execution_count": 4,
   "metadata": {},
   "outputs": [
    {
     "name": "stdout",
     "output_type": "stream",
     "text": [
      "[LightGBM] [Warning] No further splits with positive gain, best gain: -inf\n",
      "[LightGBM] [Warning] No further splits with positive gain, best gain: -inf\n",
      "[LightGBM] [Warning] No further splits with positive gain, best gain: -inf\n",
      "[LightGBM] [Warning] No further splits with positive gain, best gain: -inf\n",
      "[LightGBM] [Warning] No further splits with positive gain, best gain: -inf\n",
      "[LightGBM] [Warning] No further splits with positive gain, best gain: -inf\n",
      "gen\tnevals\n",
      "0  \t100   \n",
      "[LightGBM] [Warning] No further splits with positive gain, best gain: -inf\n",
      "[LightGBM] [Warning] No further splits with positive gain, best gain: -inf\n",
      "[LightGBM] [Warning] No further splits with positive gain, best gain: -inf\n",
      "1  \t30    \n",
      "[LightGBM] [Warning] No further splits with positive gain, best gain: -inf\n",
      "[LightGBM] [Warning] No further splits with positive gain, best gain: -inf\n",
      "2  \t30    \n",
      "3  \t30    \n",
      "4  \t30    \n",
      "5  \t30    \n",
      "6  \t30    \n",
      "7  \t30    \n",
      "8  \t30    \n",
      "9  \t30    \n",
      "10 \t30    \n",
      "11 \t30    \n",
      "12 \t30    \n",
      "13 \t30    \n",
      "14 \t30    \n",
      "15 \t30    \n",
      "16 \t30    \n",
      "17 \t30    \n",
      "18 \t30    \n",
      "19 \t30    \n",
      "20 \t30    \n",
      "21 \t30    \n",
      "22 \t30    \n",
      "23 \t30    \n",
      "[LightGBM] [Warning] No further splits with positive gain, best gain: -inf\n",
      "24 \t30    \n",
      "25 \t30    \n",
      "26 \t30    \n",
      "27 \t30    \n",
      "28 \t30    \n",
      "29 \t30    \n",
      "30 \t30    \n",
      "31 \t30    \n",
      "32 \t30    \n",
      "33 \t30    \n",
      "34 \t30    \n",
      "35 \t30    \n",
      "36 \t30    \n",
      "37 \t30    \n",
      "38 \t30    \n",
      "39 \t30    \n",
      "40 \t30    \n",
      "41 \t30    \n",
      "42 \t30    \n",
      "43 \t30    \n",
      "44 \t30    \n",
      "45 \t30    \n",
      "46 \t30    \n",
      "47 \t30    \n",
      "48 \t30    \n",
      "49 \t30    \n",
      "50 \t30    \n",
      "['sensor_11', 'sensor_12', 'sensor_15', 'time', 'sensor_9']\n"
     ]
    }
   ],
   "source": [
    "ga_selects_k_features = GASelectsKFeatures(input_model=input_features,\n",
    "                                         n_features=5,\n",
    "                                         n_gen=50,\n",
    "                                         n_population=100)\n",
    "best_features = ga_selects_k_features.transform(model=model,\n",
    "                                              X_train=X_train,\n",
    "                                              X_val=X_val,\n",
    "                                              y_train=y_train,\n",
    "                                              y_val=y_val)\n",
    "print(best_features)"
   ]
  },
  {
   "cell_type": "code",
   "execution_count": 5,
   "metadata": {},
   "outputs": [
    {
     "data": {
      "text/plain": [
       "['sensor_11', 'sensor_12', 'sensor_15', 'time', 'sensor_9']"
      ]
     },
     "execution_count": 5,
     "metadata": {},
     "output_type": "execute_result"
    }
   ],
   "source": [
    "best_features"
   ]
  },
  {
   "cell_type": "code",
   "execution_count": 6,
   "metadata": {},
   "outputs": [
    {
     "data": {
      "text/plain": [
       "39.6568687151808"
      ]
     },
     "execution_count": 6,
     "metadata": {},
     "output_type": "execute_result"
    }
   ],
   "source": [
    "model = LGBMRegressor(max_depth=4, n_estimators=12, boosting_type=\"gbdt\", verbose=0)\n",
    "pipeline = Pipeline([('std', StandardScaler()), ('regressor', model)])\n",
    "model = TransformedTargetRegressor(regressor=pipeline,\n",
    "                                   transformer=StandardScaler())\n",
    "\n",
    "model.fit(X_train, y_train)\n",
    "\n",
    "y_pred = model.predict(X_test)\n",
    "\n",
    "ga_selects_k_features.root_mean_squared_error(y_test, y_pred)"
   ]
  },
  {
   "cell_type": "code",
   "execution_count": 7,
   "metadata": {},
   "outputs": [
    {
     "data": {
      "text/plain": [
       "39.75681794269666"
      ]
     },
     "execution_count": 7,
     "metadata": {},
     "output_type": "execute_result"
    }
   ],
   "source": [
    "model = LGBMRegressor(max_depth=4, n_estimators=12, boosting_type=\"gbdt\", verbose=0)\n",
    "pipeline = Pipeline([('std', StandardScaler()), ('regressor', model)])\n",
    "model = TransformedTargetRegressor(regressor=pipeline,\n",
    "                                   transformer=StandardScaler())\n",
    "\n",
    "model.fit(X_train[best_features], y_train)\n",
    "\n",
    "y_pred = model.predict(X_test[best_features])\n",
    "\n",
    "ga_selects_k_features.root_mean_squared_error(y_test, y_pred)"
   ]
  }
 ],
 "metadata": {
  "kernelspec": {
   "display_name": "GASelectsFeatures",
   "language": "python",
   "name": "python3"
  },
  "language_info": {
   "codemirror_mode": {
    "name": "ipython",
    "version": 3
   },
   "file_extension": ".py",
   "mimetype": "text/x-python",
   "name": "python",
   "nbconvert_exporter": "python",
   "pygments_lexer": "ipython3",
   "version": "3.8.9"
  }
 },
 "nbformat": 4,
 "nbformat_minor": 2
}
